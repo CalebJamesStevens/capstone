{
 "cells": [
  {
   "cell_type": "code",
   "execution_count": null,
   "id": "a3eb0f4a",
   "metadata": {},
   "outputs": [],
   "source": [
    "!pip3 install pandas matplotlib scikit-learn joblib ipywidgets"
   ]
  },
  {
   "cell_type": "code",
   "execution_count": 2,
   "id": "9aa8f692-9c1a-4920-8fce-733d7b2d3ddb",
   "metadata": {},
   "outputs": [],
   "source": [
    "import pandas as pd\n",
    "\n",
    "pd.set_option('display.max_columns', None)\n",
    "\n",
    "structured_endometriosis_data = pd.read_csv('structured_endometriosis_data.csv')"
   ]
  },
  {
   "cell_type": "code",
   "execution_count": null,
   "id": "941d1eaa",
   "metadata": {},
   "outputs": [],
   "source": [
    "structured_endometriosis_data.isna().sum()"
   ]
  },
  {
   "cell_type": "code",
   "execution_count": null,
   "id": "579834e9",
   "metadata": {},
   "outputs": [],
   "source": [
    "structured_endometriosis_data.hist(bins=20, figsize=[20,20])"
   ]
  },
  {
   "cell_type": "code",
   "execution_count": null,
   "id": "692dd458",
   "metadata": {},
   "outputs": [],
   "source": [
    "import sklearn\n",
    "from sklearn.linear_model import LogisticRegression\n",
    "from sklearn.model_selection import train_test_split\n",
    "model = LogisticRegression()\n",
    "\n",
    "X = structured_endometriosis_data[['Age', 'Menstrual_Irregularity', 'Chronic_Pain_Level',\n",
    "          'Hormone_Level_Abnormality', 'Infertility', 'BMI']]\n",
    "y = structured_endometriosis_data['Diagnosis']\n",
    "\n",
    "\n",
    "# Split into training and testing sets\n",
    "X_train, X_test, y_train, y_test = train_test_split(X, y, test_size=0.2, random_state=42)\n",
    "\n",
    "\n",
    "model.fit(X_train, y_train)"
   ]
  },
  {
   "cell_type": "code",
   "execution_count": null,
   "id": "ab1a3f8a",
   "metadata": {},
   "outputs": [],
   "source": [
    "predictions = model.predict(X_test)\n",
    "print(\"Predictions:\", predictions[:10])\n",
    "print(\"Actual Labels:\", y_test[:10].values)"
   ]
  },
  {
   "cell_type": "code",
   "execution_count": null,
   "id": "30d50a9d",
   "metadata": {},
   "outputs": [],
   "source": [
    "# Combine predictions and actual labels\n",
    "comparison = pd.DataFrame({\n",
    "    'Predicted': predictions,\n",
    "    'Actual': y_test.values\n",
    "})\n",
    "\n",
    "# Display the first 10 rows\n",
    "print(comparison.head(10))"
   ]
  },
  {
   "cell_type": "code",
   "execution_count": null,
   "id": "1d2c3604",
   "metadata": {},
   "outputs": [],
   "source": [
    "# Calculate accuracy\n",
    "accuracy = (predictions == y_test.values).mean()\n",
    "print(f\"Accuracy: {accuracy:.2%}\")"
   ]
  },
  {
   "cell_type": "code",
   "execution_count": null,
   "id": "143132a3",
   "metadata": {},
   "outputs": [],
   "source": [
    "# Add an indicator column for mismatches\n",
    "comparison['Match'] = comparison['Predicted'] == comparison['Actual']\n",
    "\n",
    "# Display rows where predictions and actual labels don't match\n",
    "print(comparison[~comparison['Match']])\n",
    "\n"
   ]
  },
  {
   "cell_type": "code",
   "execution_count": null,
   "id": "534cdde0",
   "metadata": {},
   "outputs": [],
   "source": [
    "import matplotlib.pyplot as plt\n",
    "\n",
    "feature_names = X.columns\n",
    "coefficients = model.coef_[0]\n",
    "\n",
    "feature_importance = sorted(zip(feature_names, coefficients), key=lambda x: abs(x[1]), reverse=True)\n",
    "\n",
    "sorted_features = [item[0] for item in feature_importance]\n",
    "sorted_coefficients = [item[1] for item in feature_importance]\n",
    "\n",
    "plt.figure(figsize=(8, 6))\n",
    "plt.barh(sorted_features, sorted_coefficients, color='skyblue')\n",
    "plt.axvline(0, color='gray', linewidth=0.8)\n",
    "plt.title(\"Feature Importance (Logistic Regression)\", fontsize=14)\n",
    "plt.xlabel(\"Coefficient Value\", fontsize=12)\n",
    "plt.ylabel(\"Feature\", fontsize=12)\n",
    "plt.gca().invert_yaxis()\n",
    "plt.tight_layout()\n",
    "plt.show()\n"
   ]
  },
  {
   "cell_type": "code",
   "execution_count": null,
   "id": "120dbad8",
   "metadata": {},
   "outputs": [],
   "source": [
    "from sklearn.metrics import ConfusionMatrixDisplay\n",
    "\n",
    "ConfusionMatrixDisplay.from_predictions(y_test, predictions)"
   ]
  },
  {
   "cell_type": "code",
   "execution_count": null,
   "id": "0a09dbf6",
   "metadata": {},
   "outputs": [],
   "source": [
    "import joblib\n",
    "\n",
    "joblib.dump(model, 'endometriosis_logistic_regression_model.pkl')"
   ]
  },
  {
   "cell_type": "code",
   "execution_count": null,
   "id": "e09c1c5a",
   "metadata": {},
   "outputs": [],
   "source": [
    "import ipywidgets as widgets\n",
    "\n",
    "widgets.IntSlider()\n",
    "\n",
    "from IPython.display import display\n",
    "\n",
    "# # Create widgets\n",
    "age_widget = widgets.IntText(min=18, description=\"Age:\", value=18)\n",
    "pain_widget = widgets.FloatSlider(min=0, max=10, description=\"Chronic Pain Level:\", value=0)\n",
    "bmi_widget = widgets.FloatSlider(min=14, max=50, description=\"BMI:\", value=20)\n",
    "menstrual_irregularity_widget = widgets.Checkbox(description=\"Do you experience menstrual irregularity?\", value=False)\n",
    "hormone_level_abnormality_widget = widgets.Checkbox(description=\"Do you experience hormone level abnormality?\", value=False)\n",
    "infertility_widget = widgets.Checkbox(description=\"Do you experience infertility?\", value=False)\n",
    "\n",
    "submit_button = widgets.Button(description=\"Submit\")\n",
    "result_label = widgets.Label(value=\"\")\n",
    "\n",
    "# # Function to handle form submission\n",
    "def on_submit_button_clicked(b):\n",
    "    age = age_widget.value\n",
    "    pain = pain_widget.value\n",
    "    bmi = bmi_widget.value\n",
    "    menstrual_irregularity = menstrual_irregularity_widget.value\n",
    "    hormone_level_abnormality = hormone_level_abnormality_widget.value\n",
    "    infertility = infertility_widget.value\n",
    "    \n",
    "    \n",
    "    features = pd.DataFrame([[age, menstrual_irregularity, pain, hormone_level_abnormality, infertility, bmi]],\n",
    "                            columns=['Age', 'Menstrual_Irregularity', 'Chronic_Pain_Level',\n",
    "                                     'Hormone_Level_Abnormality', 'Infertility', 'BMI'])\n",
    "    prediction = model.predict(features)\n",
    "    result_label.value = f\"Prediction: {'Positive' if prediction[0] == 1 else 'Negative'}\"\n",
    "\n",
    "    \n",
    "    \n",
    "# # Attach function to button click event\n",
    "submit_button.on_click(on_submit_button_clicked)\n",
    "\n",
    "# # Display widgets\n",
    "display(widgets.VBox([\n",
    "    age_widget,\n",
    "    pain_widget,\n",
    "    bmi_widget,\n",
    "    menstrual_irregularity_widget,\n",
    "    hormone_level_abnormality_widget,\n",
    "    infertility_widget,\n",
    "    submit_button,\n",
    "    result_label\n",
    "]))"
   ]
  }
 ],
 "metadata": {
  "kernelspec": {
   "display_name": "venv",
   "language": "python",
   "name": "python3"
  },
  "language_info": {
   "codemirror_mode": {
    "name": "ipython",
    "version": 3
   },
   "file_extension": ".py",
   "mimetype": "text/x-python",
   "name": "python",
   "nbconvert_exporter": "python",
   "pygments_lexer": "ipython3",
   "version": "3.13.1"
  }
 },
 "nbformat": 4,
 "nbformat_minor": 5
}
